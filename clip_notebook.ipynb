{
 "cells": [
  {
   "cell_type": "code",
   "execution_count": 1,
   "metadata": {},
   "outputs": [],
   "source": [
    "import os\n",
    "import pandas as pd\n",
    "import json\n",
    "import matplotlib.pyplot as plt\n",
    "from collections import Counter, OrderedDict"
   ]
  },
  {
   "cell_type": "markdown",
   "metadata": {},
   "source": [
    "### 1. Load data on neurons and their similar concepts "
   ]
  },
  {
   "cell_type": "code",
   "execution_count": 3,
   "metadata": {},
   "outputs": [],
   "source": [
    "outputs_18_img = pd.read_csv(\"/Users/nursulusagimbayeva/Downloads/TrustworthyML-24/neural_networks_explainability/network_dissect/results/resnet18_imagenet_24_07_25_19_50/descriptions.csv\")\n",
    "outputs_18_places = pd.read_csv(\"/Users/nursulusagimbayeva/Downloads/TrustworthyML-24/neural_networks_explainability/network_dissect/results/resnet18_places_24_07_25_19_42/descriptions.csv\")\n",
    "outputs_50 = pd.read_csv(\"/Users/nursulusagimbayeva/Downloads/TrustworthyML-24/neural_networks_explainability/network_dissect/results/resnet50_imagenet_24_07_25_22_10/descriptions.csv\")"
   ]
  },
  {
   "cell_type": "code",
   "execution_count": 4,
   "metadata": {},
   "outputs": [],
   "source": [
    "# for now, let \"outputs\" stand for one of the model types\n",
    "\n",
    "outputs = outputs_18_img\n",
    "outputs_tuples = list(zip(list(outputs['layer']), list(outputs['unit']), list(outputs['description']), list(outputs['similarity'])))"
   ]
  },
  {
   "cell_type": "code",
   "execution_count": 5,
   "metadata": {},
   "outputs": [
    {
     "data": {
      "text/plain": [
       "('layer3', 0, 'juvenile', 0.038391113)"
      ]
     },
     "execution_count": 5,
     "metadata": {},
     "output_type": "execute_result"
    }
   ],
   "source": [
    "outputs_tuples[0]"
   ]
  },
  {
   "cell_type": "markdown",
   "metadata": {},
   "source": [
    "### 2. Inspect most similar concepts"
   ]
  },
  {
   "cell_type": "code",
   "execution_count": 6,
   "metadata": {},
   "outputs": [],
   "source": [
    "# 1: Filter tuples where the first element is 'layer'\n",
    "layer_tuples = [t for t in outputs_tuples if t[0] == 'fc']\n",
    "\n",
    "# 2: Sort the filtered tuples by the last element in descending order\n",
    "sorted_layer_tuples = sorted(layer_tuples, key=lambda x: x[-1], reverse=True)\n",
    "\n",
    "# 3: Select the top 50 tuples\n",
    "top_50_layer_tuples = sorted_layer_tuples[:50]"
   ]
  },
  {
   "cell_type": "code",
   "execution_count": 7,
   "metadata": {},
   "outputs": [],
   "source": [
    "concepts_learned_50 = Counter([el[2] for el in top_50_layer_tuples])"
   ]
  },
  {
   "cell_type": "code",
   "execution_count": 9,
   "metadata": {},
   "outputs": [],
   "source": [
    "top_probs = max([el[3] for el in top_50_layer_tuples])"
   ]
  },
  {
   "cell_type": "code",
   "execution_count": 10,
   "metadata": {},
   "outputs": [
    {
     "data": {
      "text/plain": [
       "0.22399902"
      ]
     },
     "execution_count": 10,
     "metadata": {},
     "output_type": "execute_result"
    }
   ],
   "source": [
    "top_probs"
   ]
  },
  {
   "cell_type": "code",
   "execution_count": 11,
   "metadata": {},
   "outputs": [
    {
     "data": {
      "text/plain": [
       "[('fc', 318, 'insect', 0.22399902),\n",
       " ('fc', 144, 'pelican', 0.22184753),\n",
       " ('fc', 300, 'insect', 0.21965027),\n",
       " ('fc', 312, 'insect', 0.21437073),\n",
       " ('fc', 308, 'insect', 0.2116394),\n",
       " ('fc', 310, 'insect', 0.20948792),\n",
       " ('fc', 303, 'insect', 0.207901),\n",
       " ('fc', 316, 'insect', 0.20521545),\n",
       " ('fc', 317, 'insect', 0.20162964),\n",
       " ('fc', 70, 'insect', 0.20101929),\n",
       " ('fc', 131, 'bird', 0.1995697),\n",
       " ('fc', 189, 'terrier', 0.1993103),\n",
       " ('fc', 302, 'insect', 0.19837952),\n",
       " ('fc', 184, 'terrier', 0.198349),\n",
       " ('fc', 304, 'insect', 0.19819641),\n",
       " ('fc', 196, 'terrier', 0.1958313),\n",
       " ('fc', 311, 'insect', 0.19548035),\n",
       " ('fc', 127, 'pelican', 0.19422913),\n",
       " ('fc', 307, 'insect', 0.19335938),\n",
       " ('fc', 188, 'terrier', 0.19238281),\n",
       " ('fc', 134, 'ibis', 0.19204712),\n",
       " ('fc', 320, 'insect', 0.19102478),\n",
       " ('fc', 315, 'insect', 0.1884613),\n",
       " ('fc', 253, 'basename', 0.18743896),\n",
       " ('fc', 175, 'dog', 0.18603516),\n",
       " ('fc', 141, 'birding', 0.18589783),\n",
       " ('fc', 185, 'terrier', 0.18504333),\n",
       " ('fc', 73, 'spider', 0.18486023),\n",
       " ('fc', 77, 'spider', 0.18460083),\n",
       " ('fc', 72, 'spider', 0.18301392),\n",
       " ('fc', 44, 'lizard', 0.1822815),\n",
       " ('fc', 194, 'terrier', 0.18199158),\n",
       " ('fc', 200, 'dog', 0.18177795),\n",
       " ('fc', 198, 'terrier', 0.18173218),\n",
       " ('fc', 321, 'insects', 0.18058777),\n",
       " ('fc', 74, 'spider', 0.17959595),\n",
       " ('fc', 276, 'wildlife', 0.17958069),\n",
       " ('fc', 219, 'dog', 0.1794281),\n",
       " ('fc', 75, 'spider', 0.17814636),\n",
       " ('fc', 202, 'dog', 0.17793274),\n",
       " ('fc', 129, 'pelican', 0.17785645),\n",
       " ('fc', 173, 'basename', 0.1769104),\n",
       " ('fc', 212, 'dog', 0.17634583),\n",
       " ('fc', 193, 'terrier', 0.17623901),\n",
       " ('fc', 301, 'insect', 0.17536926),\n",
       " ('fc', 128, 'ibis', 0.17526245),\n",
       " ('fc', 120, 'mating', 0.17504883),\n",
       " ('fc', 192, 'terrier', 0.17488098),\n",
       " ('fc', 326, 'insect', 0.17474365),\n",
       " ('fc', 215, 'dog', 0.1747284)]"
      ]
     },
     "execution_count": 11,
     "metadata": {},
     "output_type": "execute_result"
    }
   ],
   "source": [
    "top_50_layer_tuples"
   ]
  },
  {
   "cell_type": "markdown",
   "metadata": {},
   "source": [
    "### 3. Plotting the distribution of concepts for all the models"
   ]
  },
  {
   "cell_type": "code",
   "execution_count": null,
   "metadata": {},
   "outputs": [],
   "source": [
    "concepts_learned = Counter([el[2] for el in sorted_layer_tuples]) \n",
    "\n",
    "# Current model\n",
    "resnet18_img_concepts = OrderedDict(concepts_learned.most_common())\n",
    "\n",
    "## Run this code when looking at outputs of other models\n",
    "# resnet50_concepts = OrderedDict(concepts_learned.most_common())\n",
    "# resnet18_places_concepts = OrderedDict(concepts_learned.most_common())"
   ]
  },
  {
   "cell_type": "code",
   "execution_count": null,
   "metadata": {},
   "outputs": [],
   "source": [
    "# List of dictionaries and corresponding subplot titles\n",
    "dicts = [resnet18_places_concepts, resnet18_img_concepts, resnet50_concepts]\n",
    "titles = ['ResNet18_Places', 'ResNet18_ImageNet', 'Resnet50_ImageNet']\n",
    "\n",
    "# Create subplots\n",
    "fig, axes = plt.subplots(1, 3, figsize=(15, 5))  # 1 row, 3 columns\n",
    "\n",
    "# Plotting each dictionary on a separate subplot\n",
    "for i, (data, title) in enumerate(zip(dicts, titles)):\n",
    "    keys = range(len(data.keys()))\n",
    "    values = list(data.values())\n",
    "    \n",
    "    axes[i].bar(keys, values, color='skyblue')\n",
    "    axes[i].set_title(title)\n",
    "    axes[i].set_xlabel('Keys')\n",
    "    axes[i].set_ylabel('Values')\n",
    "\n",
    "# Adjust layout and show plot\n",
    "plt.tight_layout()\n",
    "plt.show()"
   ]
  }
 ],
 "metadata": {
  "kernelspec": {
   "display_name": "Python 3",
   "language": "python",
   "name": "python3"
  },
  "language_info": {
   "codemirror_mode": {
    "name": "ipython",
    "version": 3
   },
   "file_extension": ".py",
   "mimetype": "text/x-python",
   "name": "python",
   "nbconvert_exporter": "python",
   "pygments_lexer": "ipython3",
   "version": "3.11.9"
  }
 },
 "nbformat": 4,
 "nbformat_minor": 2
}
